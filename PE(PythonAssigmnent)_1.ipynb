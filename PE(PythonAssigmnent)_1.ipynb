{
  "nbformat": 4,
  "nbformat_minor": 0,
  "metadata": {
    "colab": {
      "name": "PE(PythonAssigmnent)-1",
      "provenance": []
    },
    "kernelspec": {
      "name": "python3",
      "display_name": "Python 3"
    }
  },
  "cells": [
    {
      "cell_type": "markdown",
      "metadata": {
        "id": "Lts-NwEEoYpG",
        "colab_type": "text"
      },
      "source": [
        "1. Develop a code for below scenario."
      ]
    },
    {
      "cell_type": "code",
      "metadata": {
        "id": "s07ab4w5oux1",
        "colab_type": "code",
        "colab": {
          "base_uri": "https://localhost:8080/",
          "height": 51
        },
        "outputId": "b03f237e-8147-499e-ce1c-17e608b3047a"
      },
      "source": [
        "y=int(input(\"Enter an Year\"))\n",
        "x=y%12\n",
        "d={0:\"monkey\",1:\"rooster\",2:\"dog\",3:\"pig\",4:\"rat\",5:\"ox\",6:\"tiger\",7:\"rabbit\",8:\"dragon\",9:\"snake\",10:\"horse\",11:\"sheep\"}\n",
        "print(d[x])"
      ],
      "execution_count": 61,
      "outputs": [
        {
          "output_type": "stream",
          "text": [
            "Enter an Year2000\n",
            "dragon\n"
          ],
          "name": "stdout"
        }
      ]
    },
    {
      "cell_type": "markdown",
      "metadata": {
        "id": "3wEsvbOdr8xa",
        "colab_type": "text"
      },
      "source": [
        "2. A Quick for support transport"
      ]
    },
    {
      "cell_type": "code",
      "metadata": {
        "id": "bLZiZH5JsDgW",
        "colab_type": "code",
        "colab": {
          "base_uri": "https://localhost:8080/",
          "height": 68
        },
        "outputId": "81615253-64a5-4a46-ea1c-5099c47b7f40"
      },
      "source": [
        "dist=int(input(\"Distance to be travel :\"))\n",
        "weight=int(input(\"Weight of the goods :\"))\n",
        "if dist>=500:\n",
        "  if weight>=100:\n",
        "    cost=5*dist\n",
        "  elif weight>=10 and weight<100:\n",
        "    cost=6*dist \n",
        "  else:\n",
        "    cost=7*dist \n",
        "else:\n",
        "  if weight>=100:\n",
        "    cost=8*dist \n",
        "  else:\n",
        "    cost=5*dist \n",
        "print(\"Amount to be charged\",cost)\n"
      ],
      "execution_count": null,
      "outputs": [
        {
          "output_type": "stream",
          "text": [
            "Distance to be travel :520\n",
            "Weight of the goods :50\n",
            "Amount to be charged 3120\n"
          ],
          "name": "stdout"
        }
      ]
    },
    {
      "cell_type": "markdown",
      "metadata": {
        "id": "c-D4jHtet8ZE",
        "colab_type": "text"
      },
      "source": [
        "3. The Entertainment Paradise"
      ]
    },
    {
      "cell_type": "code",
      "metadata": {
        "id": "-Jp7kb0Yvvnl",
        "colab_type": "code",
        "colab": {
          "base_uri": "https://localhost:8080/",
          "height": 68
        },
        "outputId": "98d754eb-2037-4f73-a7cb-885764f4c83e"
      },
      "source": [
        "s=625\n",
        "c=750\n",
        "up=850\n",
        "b=100\n",
        "x=int(input(\"Type of seat :\"))\n",
        "y=str(input(\"Payment mode :\"))\n",
        "if y==\"card\":\n",
        "  a=x*5/100\n",
        "  cost=x-a\n",
        "  print(\"Cost of ticket :\",cost)\n",
        "else:\n",
        "  if y==\"cash\":\n",
        "    b=x*10/100\n",
        "    cost=x-b\n",
        "    print(\"Cost of ticket :\",cost)"
      ],
      "execution_count": 18,
      "outputs": [
        {
          "output_type": "stream",
          "text": [
            "Type of seat :750\n",
            "Payment mode :cash\n",
            "Cost of ticket : 675.0\n"
          ],
          "name": "stdout"
        }
      ]
    },
    {
      "cell_type": "markdown",
      "metadata": {
        "id": "pIxE9NHdy4rM",
        "colab_type": "text"
      },
      "source": [
        "4. Develop a program that calculates the energy needed to heat water from an intial temperature to a final temperature . Your program should promote the user to enter the amount of of water in kgs and intial and final temperatures of the water. "
      ]
    },
    {
      "cell_type": "code",
      "metadata": {
        "id": "jh6eP2LHy5wP",
        "colab_type": "code",
        "colab": {
          "base_uri": "https://localhost:8080/",
          "height": 85
        },
        "outputId": "740eb657-6a7d-481b-ee38-bb5462becc3d"
      },
      "source": [
        "x=int(input(\"Intial temperature(celsius) :\"))\n",
        "y=int(input(\"Final temperature(celsius) :\"))\n",
        "z=int(input(\"Amount of water in kgs :\"))\n",
        "Q=z*(x-y)*4184\n",
        "print(\"Energy in joules :\",Q)"
      ],
      "execution_count": 21,
      "outputs": [
        {
          "output_type": "stream",
          "text": [
            "Intial temperature(celsius) :75\n",
            "Final temperature(celsius) :45\n",
            "Amount of water in kgs :15\n",
            "Energy in joules : 1882800\n"
          ],
          "name": "stdout"
        }
      ]
    },
    {
      "cell_type": "markdown",
      "metadata": {
        "id": "3gs92woI0TJY",
        "colab_type": "text"
      },
      "source": [
        "5.Develop a program that prompts user to enter month and print"
      ]
    },
    {
      "cell_type": "code",
      "metadata": {
        "id": "YcY40HAC0UM7",
        "colab_type": "code",
        "colab": {
          "base_uri": "https://localhost:8080/",
          "height": 51
        },
        "outputId": "d51eeedc-0a7c-40fc-c2fd-780ed7005529"
      },
      "source": [
        "x=str(input(\"Enter month :\"))\n",
        "winter=[\"December\",\"January\",\"February\"]\n",
        "spring=[\"March\",\"April\",\"May\"]\n",
        "summer=[\"June\",\"July\",\"August\"]\n",
        "autum=[\"September\",\"October\",\"November\"]\n",
        "if x in winter:\n",
        "  print(\"Winter\")\n",
        "elif x in spring: \n",
        "  print(\"Spring\")\n",
        "elif x in summer:\n",
        "  print(\"Summer\")\n",
        "else:\n",
        "  print(\"Autum\")"
      ],
      "execution_count": 25,
      "outputs": [
        {
          "output_type": "stream",
          "text": [
            "Enter month :March\n",
            "Spring\n"
          ],
          "name": "stdout"
        }
      ]
    },
    {
      "cell_type": "markdown",
      "metadata": {
        "id": "LJEynoZF2GSW",
        "colab_type": "text"
      },
      "source": [
        "6. Body mass index"
      ]
    },
    {
      "cell_type": "code",
      "metadata": {
        "id": "8HtjMQcK2PJN",
        "colab_type": "code",
        "colab": {
          "base_uri": "https://localhost:8080/",
          "height": 68
        },
        "outputId": "027b79b8-ed0b-450e-da6b-9031029ad7e4"
      },
      "source": [
        "wt=int(input(\"Enter Weight :\"))\n",
        "ht=float(input(\"Enter Height :\"))\n",
        "bmi=wt/(ht**2)\n",
        "if (bmi < 18.5): \n",
        "    print(\"Underweight\") \n",
        "elif ( bmi >= 18.5 and bmi < 24.9): \n",
        "    print(\"Normal\") \n",
        "elif ( bmi >= 24.9 and bmi < 30): \n",
        "    print(\"Overweight\") \n",
        "elif ( bmi >=30): \n",
        "    print(\"Obese\")"
      ],
      "execution_count": 44,
      "outputs": [
        {
          "output_type": "stream",
          "text": [
            "Enter Weight :70\n",
            "Enter Height :1.7892\n",
            "Normal\n"
          ],
          "name": "stdout"
        }
      ]
    },
    {
      "cell_type": "markdown",
      "metadata": {
        "id": "F4LwrlfR779O",
        "colab_type": "text"
      },
      "source": [
        "7. Write a program that read an integer between 100 and 1000 and adds all the digits in the integer"
      ]
    },
    {
      "cell_type": "code",
      "metadata": {
        "id": "Xed39GQc79R_",
        "colab_type": "code",
        "colab": {
          "base_uri": "https://localhost:8080/",
          "height": 51
        },
        "outputId": "47354332-3cd0-4c54-c2e5-6e14783ee70e"
      },
      "source": [
        "num=int(input(\"Enter number :\"))\n",
        "rm=0\n",
        "sum=0\n",
        "if(num>=100 and num<=1000):\n",
        "  while num>0:\n",
        "    rm=num%10\n",
        "    sum=sum+rm\n",
        "    num=num//10\n",
        "print(sum)"
      ],
      "execution_count": 46,
      "outputs": [
        {
          "output_type": "stream",
          "text": [
            "Enter number :745\n",
            "16\n"
          ],
          "name": "stdout"
        }
      ]
    },
    {
      "cell_type": "markdown",
      "metadata": {
        "id": "EGC5ezmc9fOM",
        "colab_type": "text"
      },
      "source": [
        "8 . Print all Palindrome numbers between i 10 1000."
      ]
    },
    {
      "cell_type": "code",
      "metadata": {
        "id": "XYHzf-V-9iID",
        "colab_type": "code",
        "colab": {
          "base_uri": "https://localhost:8080/",
          "height": 71
        },
        "outputId": "6ad3f7c0-c4c9-41a4-b411-cbd311b746e4"
      },
      "source": [
        "maximum = int(input(\" Please Enter the Maximum Value : \"))\n",
        "for num in range(1, maximum + 1):\n",
        "    temp = num\n",
        "    reverse = 0\n",
        "    \n",
        "    while(temp > 0):\n",
        "        Reminder = temp % 10\n",
        "        reverse = (reverse * 10) + Reminder\n",
        "        temp = temp //10\n",
        "\n",
        "    if(num == reverse):\n",
        "        print(num, end = '  ')\n"
      ],
      "execution_count": 56,
      "outputs": [
        {
          "output_type": "stream",
          "text": [
            " Please Enter the Maximum Value : 1000\n",
            "1  2  3  4  5  6  7  8  9  11  22  33  44  55  66  77  88  99  101  111  121  131  141  151  161  171  181  191  202  212  222  232  242  252  262  272  282  292  303  313  323  333  343  353  363  373  383  393  404  414  424  434  444  454  464  474  484  494  505  515  525  535  545  555  565  575  585  595  606  616  626  636  646  656  666  676  686  696  707  717  727  737  747  757  767  777  787  797  808  818  828  838  848  858  868  878  888  898  909  919  929  939  949  959  969  979  989  999  "
          ],
          "name": "stdout"
        }
      ]
    },
    {
      "cell_type": "markdown",
      "metadata": {
        "id": "u3hSNX_xBWZU",
        "colab_type": "text"
      },
      "source": [
        "9. Print all Armstrong numbers between i 10 1000."
      ]
    },
    {
      "cell_type": "code",
      "metadata": {
        "id": "zP668OwMBZNy",
        "colab_type": "code",
        "colab": {
          "base_uri": "https://localhost:8080/",
          "height": 136
        },
        "outputId": "12bc123d-d67f-42c3-ea7e-be26d19e4c47"
      },
      "source": [
        "n1 = int(input(\"Enter 1st value \"))\n",
        "n2 = int(input(\"Enter 2nd value \"))\n",
        "for num in range(n1,n2 + 1):\n",
        "   sum = 0\n",
        "   temp = num\n",
        "   while temp > 0:\n",
        "       digit = temp % 10\n",
        "       sum += digit ** 3\n",
        "       temp //= 10\n",
        " \n",
        "   if num == sum:\n",
        "       print(num)"
      ],
      "execution_count": 57,
      "outputs": [
        {
          "output_type": "stream",
          "text": [
            "Enter 1st value 1\n",
            "Enter 2nd value 1000\n",
            "1\n",
            "153\n",
            "370\n",
            "371\n",
            "407\n"
          ],
          "name": "stdout"
        }
      ]
    },
    {
      "cell_type": "markdown",
      "metadata": {
        "id": "qvNDNx8ECI5q",
        "colab_type": "text"
      },
      "source": [
        "10. Write a Program Which Iterates the inteeger from 1 to 100.For multiples of three print \"Fizz\" instead of the number and print \"Buzz\" for the multiples of five. When number is divided by both three and five print \"Firstbuzz\"."
      ]
    },
    {
      "cell_type": "code",
      "metadata": {
        "id": "ACwxFODVCayz",
        "colab_type": "code",
        "colab": {
          "base_uri": "https://localhost:8080/",
          "height": 1000
        },
        "outputId": "51a88370-a466-4ea4-90d3-67948319c9c2"
      },
      "source": [
        "for i in range(1,101):\n",
        "  if i%3==0 and i%5==0:\n",
        "    print(\"First buzz\")\n",
        "  elif i%5==0:\n",
        "    print(\"buzz\")\n",
        "  elif i%3==0:\n",
        "    print(\"fizz\")\n",
        "  else:\n",
        "    print(i)"
      ],
      "execution_count": 58,
      "outputs": [
        {
          "output_type": "stream",
          "text": [
            "1\n",
            "2\n",
            "fizz\n",
            "4\n",
            "buzz\n",
            "fizz\n",
            "7\n",
            "8\n",
            "fizz\n",
            "buzz\n",
            "11\n",
            "fizz\n",
            "13\n",
            "14\n",
            "First buzz\n",
            "16\n",
            "17\n",
            "fizz\n",
            "19\n",
            "buzz\n",
            "fizz\n",
            "22\n",
            "23\n",
            "fizz\n",
            "buzz\n",
            "26\n",
            "fizz\n",
            "28\n",
            "29\n",
            "First buzz\n",
            "31\n",
            "32\n",
            "fizz\n",
            "34\n",
            "buzz\n",
            "fizz\n",
            "37\n",
            "38\n",
            "fizz\n",
            "buzz\n",
            "41\n",
            "fizz\n",
            "43\n",
            "44\n",
            "First buzz\n",
            "46\n",
            "47\n",
            "fizz\n",
            "49\n",
            "buzz\n",
            "fizz\n",
            "52\n",
            "53\n",
            "fizz\n",
            "buzz\n",
            "56\n",
            "fizz\n",
            "58\n",
            "59\n",
            "First buzz\n",
            "61\n",
            "62\n",
            "fizz\n",
            "64\n",
            "buzz\n",
            "fizz\n",
            "67\n",
            "68\n",
            "fizz\n",
            "buzz\n",
            "71\n",
            "fizz\n",
            "73\n",
            "74\n",
            "First buzz\n",
            "76\n",
            "77\n",
            "fizz\n",
            "79\n",
            "buzz\n",
            "fizz\n",
            "82\n",
            "83\n",
            "fizz\n",
            "buzz\n",
            "86\n",
            "fizz\n",
            "88\n",
            "89\n",
            "First buzz\n",
            "91\n",
            "92\n",
            "fizz\n",
            "94\n",
            "buzz\n",
            "fizz\n",
            "97\n",
            "98\n",
            "fizz\n",
            "buzz\n"
          ],
          "name": "stdout"
        }
      ]
    },
    {
      "cell_type": "markdown",
      "metadata": {
        "id": "1sfnY_XrC-UR",
        "colab_type": "text"
      },
      "source": [
        "11. Spider Problem."
      ]
    },
    {
      "cell_type": "code",
      "metadata": {
        "id": "aDRyNt48C_hw",
        "colab_type": "code",
        "colab": {
          "base_uri": "https://localhost:8080/",
          "height": 85
        },
        "outputId": "ff15df42-7c38-49d8-8295-d9e630148870"
      },
      "source": [
        "H=int(input(\"H:\"))\n",
        "U=int(input(\"U:\"))\n",
        "D=int(input(\"D:\"))\n",
        "N=0\n",
        "while (U-D)*N <=(H-U):\n",
        "  N=N+1\n",
        "print(N+1)"
      ],
      "execution_count": 59,
      "outputs": [
        {
          "output_type": "stream",
          "text": [
            "H:200\n",
            "U:50\n",
            "D:1\n",
            "5\n"
          ],
          "name": "stdout"
        }
      ]
    }
  ]
}