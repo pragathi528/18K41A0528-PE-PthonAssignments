{
  "nbformat": 4,
  "nbformat_minor": 0,
  "metadata": {
    "colab": {
      "name": "Python assignment-2",
      "provenance": [],
      "collapsed_sections": []
    },
    "kernelspec": {
      "name": "python3",
      "display_name": "Python 3"
    }
  },
  "cells": [
    {
      "cell_type": "markdown",
      "metadata": {
        "id": "1ksaBBgqVeHE",
        "colab_type": "text"
      },
      "source": [
        "1.\tArea of Triangle :Given the lengths of three sides of a triangle, calculate the area of the triangle. "
      ]
    },
    {
      "cell_type": "code",
      "metadata": {
        "id": "Q3W2IB3TVxsY",
        "colab_type": "code",
        "colab": {
          "base_uri": "https://localhost:8080/",
          "height": 85
        },
        "outputId": "2282d10b-17f1-45f5-e2ff-c2b9232ff772"
      },
      "source": [
        "n1=int(input(\"Enter side1 :\"))\n",
        "n2=int(input(\"Enter side2 :\"))\n",
        "n3=int(input(\"Enter side3 :\"))\n",
        "if(n1+n2>n3):\n",
        "  s=(n1+n2+n3)/2\n",
        "  area=(s*(s-n1)*(s-n2)*(s-n3))**(1/2)\n",
        "  print(\"The area of traingle :\",round(area,2))\n",
        "else:\n",
        "  print(\"Notpossible\")"
      ],
      "execution_count": null,
      "outputs": [
        {
          "output_type": "stream",
          "text": [
            "Enter side1 :12\n",
            "Enter side2 :14\n",
            "Enter side3 :15\n",
            "The area of traingle : 78.93\n"
          ],
          "name": "stdout"
        }
      ]
    },
    {
      "cell_type": "markdown",
      "metadata": {
        "id": "QMIwsoEfYjkG",
        "colab_type": "text"
      },
      "source": [
        "2.\tTake a string from end user and check if the value is palindrome or not"
      ]
    },
    {
      "cell_type": "code",
      "metadata": {
        "id": "ugLRKYabYkpH",
        "colab_type": "code",
        "colab": {
          "base_uri": "https://localhost:8080/",
          "height": 51
        },
        "outputId": "c8414c28-ec01-4ab8-d777-c05b31471b35"
      },
      "source": [
        "s=input(\"Enter string :\")\n",
        "if(s==s[::-1]):\n",
        "  print(\"Given string is palindrome\")\n",
        "else:\n",
        "  print(\"Given string is not palindrome\")"
      ],
      "execution_count": null,
      "outputs": [
        {
          "output_type": "stream",
          "text": [
            "Enter string :mom\n",
            "Given string is palindrome\n"
          ],
          "name": "stdout"
        }
      ]
    },
    {
      "cell_type": "markdown",
      "metadata": {
        "id": "Yhg_BiTqZS_h",
        "colab_type": "text"
      },
      "source": [
        "3.\tWrite a program that reads a year from the user and displays a messageIndicating whether or not it is a leap year.\n"
      ]
    },
    {
      "cell_type": "code",
      "metadata": {
        "id": "Nde5UA8nZcD1",
        "colab_type": "code",
        "colab": {
          "base_uri": "https://localhost:8080/",
          "height": 51
        },
        "outputId": "54ff2c55-ad85-43c8-c1c9-9aea9579b62b"
      },
      "source": [
        "year=int(input(\"Enter year :\"))\n",
        "if(year%4==0 and year%100!=0 or year%400==0):\n",
        "  print(\"Given year is leap year\")\n",
        "else:\n",
        "  print(\"Given year is not leap year\")\n"
      ],
      "execution_count": null,
      "outputs": [
        {
          "output_type": "stream",
          "text": [
            "Enter year :2020\n",
            "Given year is leap year\n"
          ],
          "name": "stdout"
        }
      ]
    },
    {
      "cell_type": "markdown",
      "metadata": {
        "id": "ssOAjPaSa076",
        "colab_type": "text"
      },
      "source": [
        "4.\t Space To Hyphen problem \n",
        "Take a string as input, and replaces spaces “ “  with hyphens “-”, and returns a string.\n"
      ]
    },
    {
      "cell_type": "code",
      "metadata": {
        "id": "t9CsZ15ua6w7",
        "colab_type": "code",
        "colab": {
          "base_uri": "https://localhost:8080/",
          "height": 51
        },
        "outputId": "89a35c60-0656-4a5b-be48-16e2e11eef2d"
      },
      "source": [
        "x=input(\"Enter a string :\")\n",
        "print(x.replace(' ','-'))"
      ],
      "execution_count": null,
      "outputs": [
        {
          "output_type": "stream",
          "text": [
            "Enter a string :This program converts spaces into hyphen\n",
            "This-program-converts-spaces-into-hyphen\n"
          ],
          "name": "stdout"
        }
      ]
    },
    {
      "cell_type": "markdown",
      "metadata": {
        "id": "bxrPBYYibV7W",
        "colab_type": "text"
      },
      "source": [
        "5.\tUnique Sort problem \n",
        "Take a string as input that accepts a comma separated sequence of words as input and prints the unique words in sorted form (alphanumerically).\n"
      ]
    },
    {
      "cell_type": "code",
      "metadata": {
        "id": "NIrfVUyebaco",
        "colab_type": "code",
        "colab": {
          "base_uri": "https://localhost:8080/",
          "height": 51
        },
        "outputId": "434b08a4-acbc-427c-f29d-65a9712ef84b"
      },
      "source": [
        "x = input(\"Enter words :\")\n",
        "s=x.split(\",\")\n",
        "s.sort()\n",
        "list(s)\n",
        "set(s)\n"
      ],
      "execution_count": null,
      "outputs": [
        {
          "output_type": "stream",
          "text": [
            "Enter words :white, red, cyan, green, magenta, cyan, pink\n"
          ],
          "name": "stdout"
        },
        {
          "output_type": "execute_result",
          "data": {
            "text/plain": [
              "{' cyan', ' green', ' magenta', ' pink', ' red', 'white'}"
            ]
          },
          "metadata": {
            "tags": []
          },
          "execution_count": 26
        }
      ]
    },
    {
      "cell_type": "markdown",
      "metadata": {
        "id": "25C6k8PCdEyD",
        "colab_type": "text"
      },
      "source": [
        "6.\tTax Calculator\n",
        "Ask the user for their monthly salary. Calculate whether they have to pay tax and if so, how much is that amount .Print the result\n"
      ]
    },
    {
      "cell_type": "code",
      "metadata": {
        "id": "pbNJSXY-dYJ5",
        "colab_type": "code",
        "colab": {
          "base_uri": "https://localhost:8080/",
          "height": 51
        },
        "outputId": "01e6d9fc-edef-4f9d-e6a3-6298ed19d198"
      },
      "source": [
        "sal=int(input(\"Enter salary :\"))\n",
        "if(sal>=0) and (sal<=250000):\n",
        "  tax=(sal*0)\n",
        "elif (sal>250000) and (sal<=500000):\n",
        "  tax=(sal*0.05)\n",
        "elif (sal>500000) and (sal<=750000):\n",
        "  tax=(sal*0.1)\n",
        "elif (sal>750000) and (sal<=1000000):\n",
        "  tax=(sal*0.15)\n",
        "elif (sal>1000000) and (sal<=1250000):\n",
        "  tax=(sal*0.2)\n",
        "elif (sal>1250000) and (sal<=1500000):\n",
        "  tax=(sal*0.25)\n",
        "else:\n",
        "  tx=(sal*0.3)\n",
        "print(\"Tax : \",tax)"
      ],
      "execution_count": null,
      "outputs": [
        {
          "output_type": "stream",
          "text": [
            "Enter salary :250025\n",
            "Tax :  12501.25\n"
          ],
          "name": "stdout"
        }
      ]
    },
    {
      "cell_type": "markdown",
      "metadata": {
        "id": "SCVa6SEpkgqB",
        "colab_type": "text"
      },
      "source": [
        "7.\tTake a list of integers as an argument, and converts it into a single integer (return the integer)."
      ]
    },
    {
      "cell_type": "code",
      "metadata": {
        "id": "1yOb40I2kkXt",
        "colab_type": "code",
        "colab": {
          "base_uri": "https://localhost:8080/",
          "height": 34
        },
        "outputId": "00f800cd-7d97-4ca6-db16-ac03f8cb6fab"
      },
      "source": [
        "x=[11,33,50]\n",
        "for i in x:\n",
        "  print(i,end=\"\")"
      ],
      "execution_count": null,
      "outputs": [
        {
          "output_type": "stream",
          "text": [
            "113350"
          ],
          "name": "stdout"
        }
      ]
    },
    {
      "cell_type": "markdown",
      "metadata": {
        "id": "rGPjqwtIlDPc",
        "colab_type": "text"
      },
      "source": [
        "8.\tUnits of Time : \n",
        "Create a program that reads duration from the user as a number of days, hours, minutes, and seconds. Compute and display the total number of seconds represented by this duration. \n"
      ]
    },
    {
      "cell_type": "code",
      "metadata": {
        "id": "D-nk7rn0lHd6",
        "colab_type": "code",
        "colab": {
          "base_uri": "https://localhost:8080/",
          "height": 102
        },
        "outputId": "f28c5ecc-8452-4541-8cd4-c4707b5ea2d6"
      },
      "source": [
        "secspermin=60\n",
        "secsperhour=3600\n",
        "secsperday=86400\n",
        "days=int(input(\"Enter the number of Days :\"))\n",
        "hours=int(input(\"Enter the number of Hours :\"))\n",
        "minutes=int(input(\"Enter the number of Minutes :\"))\n",
        "seconds=int(input(\"Enter the number of Seconds :\"))\n",
        "tsecs=days*secondsperday\n",
        "tsecs=tsecs+(hours*secsperhour)\n",
        "tsecs=tsecs+(minutes*secspermin)\n",
        "tsecs=tsecs+seconds\n",
        "print(\"Total number of seconds : \",\"%d\"%(tsecs))"
      ],
      "execution_count": null,
      "outputs": [
        {
          "output_type": "stream",
          "text": [
            "Enter the number of Days :2\n",
            "Enter the number of Hours :12\n",
            "Enter the number of Minutes :60\n",
            "Enter the number of Seconds :23\n",
            "Total number of seconds :  219623\n"
          ],
          "name": "stdout"
        }
      ]
    },
    {
      "cell_type": "markdown",
      "metadata": {
        "id": "j6pLc7gJnyHe",
        "colab_type": "text"
      },
      "source": [
        "9.\tSort 3 Integers : \n",
        "Given three integers (given through user input), sort the numbers using |min| and  |max| functions.\n"
      ]
    },
    {
      "cell_type": "code",
      "metadata": {
        "id": "XDIZUg6nn2qB",
        "colab_type": "code",
        "colab": {
          "base_uri": "https://localhost:8080/",
          "height": 85
        },
        "outputId": "cb9600d3-14bf-4ef9-f229-5cf0339ef467"
      },
      "source": [
        "a=int(input(\"Enter the value of a : \"))\n",
        "b=int(input(\"Enter the value of b : \"))\n",
        "c=int(input(\"Enter the value of c : \"))\n",
        "d=min(a,b,c)\n",
        "e=max(a,b,c)\n",
        "f=(a+b+c)-d-e \n",
        "print(\"The sorted order : \",d,f,e)"
      ],
      "execution_count": null,
      "outputs": [
        {
          "output_type": "stream",
          "text": [
            "Enter the value of a : 1\n",
            "Enter the value of b : 9\n",
            "Enter the value of c : 4\n",
            "The sorted order :  1 4 9\n"
          ],
          "name": "stdout"
        }
      ]
    },
    {
      "cell_type": "markdown",
      "metadata": {
        "id": "SBs--jg5pbNP",
        "colab_type": "text"
      },
      "source": [
        "10.\tWrite a program that reads a date from the user and computes its immediate successor. The date is the format YYYY-MM-DD. So, 2020-04-15 will have the successor 2020-04-16."
      ]
    },
    {
      "cell_type": "code",
      "metadata": {
        "id": "08eQOhrvpfIH",
        "colab_type": "code",
        "colab": {
          "base_uri": "https://localhost:8080/",
          "height": 85
        },
        "outputId": "5cad97b4-9c4f-4f97-ee21-5988dcba6d4e"
      },
      "source": [
        "year=int(input(\"Enter a year : \"))\n",
        "if year%400==0:\n",
        "  leapyear=True\n",
        "elif year%100==0:\n",
        "  leapyear=False\n",
        "elif year%4==0:\n",
        "  leapyear=True\n",
        "else:\n",
        "  leapyear=False\n",
        "month=int(input(\"Enter month : \"))\n",
        "if month in (1,3,5,7,8,10,12):\n",
        "  monthlength=31\n",
        "elif month==2:\n",
        "  if leapyear:\n",
        "    monthlength=29\n",
        "  else:\n",
        "    monthlength==28\n",
        "else:\n",
        "  monthlength=28\n",
        "day=int(input(\"Enter a day : \"))\n",
        "if day<monthlength:\n",
        "  day+=1\n",
        "else:\n",
        "  day=1\n",
        "  if month==12:\n",
        "    month=1\n",
        "    year+1\n",
        "  else:\n",
        "    month+=1\n",
        "print(\"The immediate successor is YYYY-MM-DD : %d-%d-%d\"%(year,month,day))"
      ],
      "execution_count": null,
      "outputs": [
        {
          "output_type": "stream",
          "text": [
            "Enter a year : 2020\n",
            "Enter month : 4\n",
            "Enter a day : 15\n",
            "The immediate successor is YYYY-MM-DD : 2020-4-16\n"
          ],
          "name": "stdout"
        }
      ]
    },
    {
      "cell_type": "markdown",
      "metadata": {
        "id": "WYPjWzjWphl4",
        "colab_type": "text"
      },
      "source": [
        "11.\tCompute product of a list of numbers [45 ,3,2,89,72,1,10,7]"
      ]
    },
    {
      "cell_type": "code",
      "metadata": {
        "id": "XUaILoWIpldD",
        "colab_type": "code",
        "colab": {
          "base_uri": "https://localhost:8080/",
          "height": 34
        },
        "outputId": "686dff36-21be-4500-b2ab-6359fa3b584c"
      },
      "source": [
        "list=[45,3,2,89,72,1,10,7]\n",
        "n=1\n",
        "for i in range(len(list)):\n",
        "  n=n*list[i]\n",
        "print(\"The product of list : \",n)"
      ],
      "execution_count": null,
      "outputs": [
        {
          "output_type": "stream",
          "text": [
            "The product of list :  121111200\n"
          ],
          "name": "stdout"
        }
      ]
    },
    {
      "cell_type": "markdown",
      "metadata": {
        "id": "rxpMu5yWqNOi",
        "colab_type": "text"
      },
      "source": [
        "12.\tCompute given Num_list =  [5, 6,8 ,34,89,1] to get desired output"
      ]
    },
    {
      "cell_type": "code",
      "metadata": {
        "id": "eL6HvUk8qRiY",
        "colab_type": "code",
        "colab": {
          "base_uri": "https://localhost:8080/",
          "height": 34
        },
        "outputId": "d72d4d45-8d2b-488f-8abe-b150437e56db"
      },
      "source": [
        "l=[5,6,8,34,89,1]\n",
        "out_list=[]\n",
        "for i in range(len(l)-1):\n",
        "  ol=l[i]+l[i+1]\n",
        "  out_list.append(ol)\n",
        "print(\"out_list = \",out_list)"
      ],
      "execution_count": null,
      "outputs": [
        {
          "output_type": "stream",
          "text": [
            "out_list =  [11, 14, 42, 123, 90]\n"
          ],
          "name": "stdout"
        }
      ]
    },
    {
      "cell_type": "markdown",
      "metadata": {
        "id": "wbPLaOyGugsS",
        "colab_type": "text"
      },
      "source": [
        "13.\t Compute given Num_tuple =  (5, 6,8 ,3,9,1) to get desired output"
      ]
    },
    {
      "cell_type": "code",
      "metadata": {
        "id": "exfHPQm7ulDY",
        "colab_type": "code",
        "colab": {
          "base_uri": "https://localhost:8080/",
          "height": 34
        },
        "outputId": "a89c314e-c1a4-444a-a286-a34aa41c4bf9"
      },
      "source": [
        "n=(5,6,8,3,9,1)\n",
        "out_list=[]\n",
        "out_list.append(n[0])\n",
        "for i in range(len(n)-1):\n",
        "  m=out_list[i]*n[i+1]\n",
        "  out_list.append(m)\n",
        "print(\"out_list = \",out_list)"
      ],
      "execution_count": null,
      "outputs": [
        {
          "output_type": "stream",
          "text": [
            "out_list =  [5, 30, 240, 720, 6480, 6480]\n"
          ],
          "name": "stdout"
        }
      ]
    },
    {
      "cell_type": "markdown",
      "metadata": {
        "id": "hFlba87-vhpQ",
        "colab_type": "text"
      },
      "source": [
        "14.\t Write a Python code that takes a number and returns a list of its digits. So for 586392 it should return [5,8,6,3,9,2]"
      ]
    },
    {
      "cell_type": "code",
      "metadata": {
        "id": "y0nTfcq5vmLR",
        "colab_type": "code",
        "colab": {
          "base_uri": "https://localhost:8080/",
          "height": 51
        },
        "outputId": "97d1e08b-e6df-4bde-ae80-5ae970d9cc07"
      },
      "source": [
        "n=input(\"Enter a number : \")\n",
        "l=[]\n",
        "for i in range(len(n)):\n",
        "  l.append(n[i])\n",
        "print(l)"
      ],
      "execution_count": null,
      "outputs": [
        {
          "output_type": "stream",
          "text": [
            "Enter a number : 586392\n",
            "['5', '8', '6', '3', '9', '2']\n"
          ],
          "name": "stdout"
        }
      ]
    },
    {
      "cell_type": "markdown",
      "metadata": {
        "id": "Amudu_gswTF6",
        "colab_type": "text"
      },
      "source": [
        "15.\tWrite a program that finds the longest palindromic substring of a given string"
      ]
    },
    {
      "cell_type": "code",
      "metadata": {
        "id": "HwXSgBLEwXka",
        "colab_type": "code",
        "colab": {}
      },
      "source": [
        "def longestpalindrome(n):\n",
        "  d=[[False for i in range(len(n))] for i in range(len(n))]\n",
        "  for i in range(len(n)):\n",
        "    d[i][i]=True\n",
        "  maxlen=1\n",
        "  start=0\n",
        "  for j in range(2,len(n)+1):\n",
        "    for i in range(len(n)-j+1):\n",
        "      end=i+j\n",
        "      if j==2:\n",
        "        if n[i]==n[end-1]:\n",
        "          d[i][end-1]=True\n",
        "          maxlen=j\n",
        "          start=i\n",
        "        else:\n",
        "          if n[i]==n[end-1] and d[i+1][end-2]:\n",
        "            d[i][end-1]=True\n",
        "            maxlen=j\n",
        "            start=i\n",
        "  return n[start:start+maxlen]"
      ],
      "execution_count": 7,
      "outputs": []
    },
    {
      "cell_type": "code",
      "metadata": {
        "id": "Dznt1KiSPdVf",
        "colab_type": "code",
        "colab": {
          "base_uri": "https://localhost:8080/",
          "height": 51
        },
        "outputId": "5286f1e1-b62c-4966-e09e-a44901d56366"
      },
      "source": [
        "n=input(\"Enter string : \")\n",
        "print(longestpalindrome(n))"
      ],
      "execution_count": 10,
      "outputs": [
        {
          "output_type": "stream",
          "text": [
            "Enter string : ba aaa\n",
            "aa\n"
          ],
          "name": "stdout"
        }
      ]
    },
    {
      "cell_type": "markdown",
      "metadata": {
        "id": "izPfSgqdwX-L",
        "colab_type": "text"
      },
      "source": [
        "16.\t Substring Check (Bug Funny) : \n",
        "Given two binary strings, A (of length 10) and B (of length 5), output 1 if B is a substring of A and 0 otherwise.\n"
      ]
    },
    {
      "cell_type": "code",
      "metadata": {
        "id": "ixrBu_NrxXYr",
        "colab_type": "code",
        "colab": {
          "base_uri": "https://localhost:8080/",
          "height": 102
        },
        "outputId": "81ced3b8-ca0b-4e9f-8027-41dee9d76ff6"
      },
      "source": [
        "n=int(input())\n",
        "for i in range(n):\n",
        "  A,B=input(\"Enter A strin and B string : \").split()\n",
        "  if B in A:\n",
        "    print(\"1\")\n",
        "  else:\n",
        "    print(\"0\")"
      ],
      "execution_count": null,
      "outputs": [
        {
          "output_type": "stream",
          "text": [
            "2\n",
            "Enter A strin and B string : 1010110010 10110\n",
            "1\n",
            "Enter A strin and B string : 1110111011 10011\n",
            "0\n"
          ],
          "name": "stdout"
        }
      ]
    },
    {
      "cell_type": "markdown",
      "metadata": {
        "id": "8i0ojtnpxmhD",
        "colab_type": "text"
      },
      "source": [
        "17.\t  POUR1 - Pouring water : \n",
        "Given two vessels, one of which can accommodate a litres of water and the other - b litres of water, determine the number of steps required to obtain exactly c litres of water in one of the vessels.\n",
        "At the beginning both vessels are empty. The following operations are counted as 'steps':\n",
        "•\temptying a vessel,\n",
        "•\tfilling a vessel,\n",
        "•\tpouring water from one vessel to the other, without spilling, until one of the vessels is either full or empty.\n"
      ]
    },
    {
      "cell_type": "code",
      "metadata": {
        "id": "PFcShakNxs1B",
        "colab_type": "code",
        "colab": {}
      },
      "source": [
        "def gcd(a,b):\n",
        "  if b==0:\n",
        "    return a\n",
        "  return gcd(b,a%b)\n",
        "def countsteps(a,b,c):\n",
        "  v1=b\n",
        "  v2=0\n",
        "  count=1\n",
        "  while ((v1 is not c) and (v2 is not c)):\n",
        "    temp=min(v1,a-v2)\n",
        "    v2=v2+temp\n",
        "    v1=v1-temp\n",
        "    count=count+1\n",
        "    if ((v2==c) or (v1==c)):\n",
        "      break\n",
        "    if v1==0:\n",
        "      v1=b\n",
        "      count=count+1\n",
        "    if v2==a:\n",
        "      v2=0\n",
        "      count=count+1\n",
        "  return count\n",
        "      \n"
      ],
      "execution_count": 3,
      "outputs": []
    },
    {
      "cell_type": "code",
      "metadata": {
        "id": "HaSOPfniRlAX",
        "colab_type": "code",
        "colab": {
          "base_uri": "https://localhost:8080/",
          "height": 170
        },
        "outputId": "96534446-e6f3-403e-dab1-bbb39248efc3"
      },
      "source": [
        "def impossible(a,b,c):\n",
        "  if a>b:\n",
        "    temp=a\n",
        "    a=b\n",
        "    b=temp\n",
        "  if c>b:\n",
        "    return -1\n",
        "  if(c%(gcd(b,a)) is not 0):\n",
        "    return -1\n",
        "  return (min(countsteps(b,a,c),countsteps(a,b,c)))\n",
        "t=int(input(\"Enter no of testcases : \"))\n",
        "for i in range(t):\n",
        "  a=int(input(\"Enter capacity of vessel a : \"))\n",
        "  b=int(input(\"Enter capacity of vessel b : \"))\n",
        "  c=int(input(\"Enter capacity of vessel c : \"))\n",
        "  print(\"Minimum no of steps required is : \",impossible(a,b,c))"
      ],
      "execution_count": 4,
      "outputs": [
        {
          "output_type": "stream",
          "text": [
            "Enter no of testcases : 2\n",
            "Enter capacity of vessel a : 2\n",
            "Enter capacity of vessel b : 5\n",
            "Enter capacity of vessel c : 2\n",
            "Minimum no of steps required is :  1\n",
            "Enter capacity of vessel a : 3\n",
            "Enter capacity of vessel b : 5\n",
            "Enter capacity of vessel c : 2\n",
            "Minimum no of steps required is :  2\n"
          ],
          "name": "stdout"
        }
      ]
    }
  ]
}